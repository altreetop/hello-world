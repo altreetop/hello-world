{
  "nbformat": 4,
  "nbformat_minor": 0,
  "metadata": {
    "colab": {
      "name": "class2.ipynb",
      "provenance": [],
      "authorship_tag": "ABX9TyPj2RYFjbmKXfpkCVJzPmxn",
      "include_colab_link": true
    },
    "kernelspec": {
      "name": "python3",
      "display_name": "Python 3"
    }
  },
  "cells": [
    {
      "cell_type": "markdown",
      "metadata": {
        "id": "view-in-github",
        "colab_type": "text"
      },
      "source": [
        "<a href=\"https://colab.research.google.com/github/altreetop/hello-world/blob/main/class2.ipynb\" target=\"_parent\"><img src=\"https://colab.research.google.com/assets/colab-badge.svg\" alt=\"Open In Colab\"/></a>"
      ]
    },
    {
      "cell_type": "code",
      "metadata": {
        "id": "L3s9Yqp3axrH"
      },
      "source": [
        "def input_name = ():\r\n",
        "  input_name = input(\"please enter your name\")\r\n",
        "  print(input_name)\r\n",
        "\r\n",
        "  input_name "
      ],
      "execution_count": null,
      "outputs": []
    },
    {
      "cell_type": "code",
      "metadata": {
        "colab": {
          "base_uri": "https://localhost:8080/"
        },
        "id": "SCWppTdfbJme",
        "outputId": "f7b07662-e8c3-4ea5-b7ae-72b8f8025c41"
      },
      "source": [
        "def sum2num(a,b):\r\n",
        "  return a+b\r\n",
        "\r\n",
        "sum2num(2,3)\r\n"
      ],
      "execution_count": 3,
      "outputs": [
        {
          "output_type": "execute_result",
          "data": {
            "text/plain": [
              "5"
            ]
          },
          "metadata": {
            "tags": []
          },
          "execution_count": 3
        }
      ]
    },
    {
      "cell_type": "code",
      "metadata": {
        "colab": {
          "base_uri": "https://localhost:8080/"
        },
        "id": "aykpf38tcgwZ",
        "outputId": "b9a03933-70a3-4851-91bd-8f457d43e2dd"
      },
      "source": [
        "def myfunc(n):\r\n",
        "  return lambda a:a*n\r\n",
        "\r\n",
        "mydoubler = myfunc(2)\r\n",
        "mytripler = myfunc(3)\r\n",
        "\r\n",
        "print(mydoubler(11))\r\n",
        "print(mytripler(11))"
      ],
      "execution_count": 5,
      "outputs": [
        {
          "output_type": "stream",
          "text": [
            "22\n",
            "33\n"
          ],
          "name": "stdout"
        }
      ]
    },
    {
      "cell_type": "code",
      "metadata": {
        "colab": {
          "base_uri": "https://localhost:8080/"
        },
        "id": "0pnWNSCheDnD",
        "outputId": "b428b245-a17f-468d-f14e-3bcd9b3e1496"
      },
      "source": [
        "x = lambda a,b : a+b+10\r\n",
        "\r\n",
        "print(x(5,3))"
      ],
      "execution_count": 6,
      "outputs": [
        {
          "output_type": "stream",
          "text": [
            "18\n"
          ],
          "name": "stdout"
        }
      ]
    },
    {
      "cell_type": "code",
      "metadata": {
        "colab": {
          "base_uri": "https://localhost:8080/"
        },
        "id": "7ej2hLuPf4su",
        "outputId": "2ef69d23-9611-4c30-ae45-ec1f643f11c8"
      },
      "source": [
        "import platform\r\n",
        "x = platform.system()\r\n",
        "print(x)\r\n",
        "## pip3 is a way to install libraries onto your local machine\r\n"
      ],
      "execution_count": 7,
      "outputs": [
        {
          "output_type": "stream",
          "text": [
            "Linux\n"
          ],
          "name": "stdout"
        }
      ]
    },
    {
      "cell_type": "code",
      "metadata": {
        "colab": {
          "base_uri": "https://localhost:8080/"
        },
        "id": "_7utdK5VgKou",
        "outputId": "6e66f499-8c68-4c77-a133-29fbf4798da5"
      },
      "source": [
        "from platform import os\r\n",
        "x = os.name\r\n",
        "print(x)\r\n"
      ],
      "execution_count": 8,
      "outputs": [
        {
          "output_type": "stream",
          "text": [
            "posix\n"
          ],
          "name": "stdout"
        }
      ]
    },
    {
      "cell_type": "code",
      "metadata": {
        "colab": {
          "base_uri": "https://localhost:8080/"
        },
        "id": "IyI38vFOhAiu",
        "outputId": "55452f23-b784-49a2-9428-4ae34963fc39"
      },
      "source": [
        "!pip3 install pandas\r\n"
      ],
      "execution_count": 9,
      "outputs": [
        {
          "output_type": "stream",
          "text": [
            "Requirement already satisfied: pandas in /usr/local/lib/python3.6/dist-packages (1.1.5)\n",
            "Requirement already satisfied: pytz>=2017.2 in /usr/local/lib/python3.6/dist-packages (from pandas) (2018.9)\n",
            "Requirement already satisfied: numpy>=1.15.4 in /usr/local/lib/python3.6/dist-packages (from pandas) (1.19.5)\n",
            "Requirement already satisfied: python-dateutil>=2.7.3 in /usr/local/lib/python3.6/dist-packages (from pandas) (2.8.1)\n",
            "Requirement already satisfied: six>=1.5 in /usr/local/lib/python3.6/dist-packages (from python-dateutil>=2.7.3->pandas) (1.15.0)\n"
          ],
          "name": "stdout"
        }
      ]
    },
    {
      "cell_type": "code",
      "metadata": {
        "colab": {
          "base_uri": "https://localhost:8080/"
        },
        "id": "ddi9hgTwh8d0",
        "outputId": "7c1c6fc8-a60f-489f-e6f7-75249734182e"
      },
      "source": [
        "#try except - code has errors - x is not defined\r\n",
        "try :\r\n",
        "  print(x)\r\n",
        "except:\r\n",
        "  print(\"Error\")\r\n",
        "finally:\r\n",
        "  print(\"this is the end of the program\")"
      ],
      "execution_count": 11,
      "outputs": [
        {
          "output_type": "stream",
          "text": [
            "posix\n",
            "this is the end of the program\n"
          ],
          "name": "stdout"
        }
      ]
    },
    {
      "cell_type": "code",
      "metadata": {
        "colab": {
          "base_uri": "https://localhost:8080/"
        },
        "id": "KfGL1ekRiEPW",
        "outputId": "1f30e59c-9883-488e-c223-53fb34aefb4c"
      },
      "source": [
        "%%writefile pythonclass.txt\r\n",
        "hello wurld\r\n",
        "I love python\r\n",
        "everythin is temmie\r\n"
      ],
      "execution_count": 12,
      "outputs": [
        {
          "output_type": "stream",
          "text": [
            "Writing pythonclass.txt\n"
          ],
          "name": "stdout"
        }
      ]
    },
    {
      "cell_type": "code",
      "metadata": {
        "colab": {
          "base_uri": "https://localhost:8080/"
        },
        "id": "JOS_5mHdjXVh",
        "outputId": "3baa227a-c54f-4f47-cc5a-5391af975126"
      },
      "source": [
        "# this is how you read the file into your program\r\n",
        "# note can also open as the append a+ mode\r\n",
        "with open(\"pythonclass.txt\",'r') as f: #gave the name as 'f' it is a handle for the file, note next line has to start with a tab\r\n",
        "  print(f.read())"
      ],
      "execution_count": 13,
      "outputs": [
        {
          "output_type": "stream",
          "text": [
            "hello wurld\n",
            "I love python\n",
            "everythin is temmie\n"
          ],
          "name": "stdout"
        }
      ]
    },
    {
      "cell_type": "code",
      "metadata": {
        "colab": {
          "base_uri": "https://localhost:8080/"
        },
        "id": "ess4BKe7lK5r",
        "outputId": "b49a9d01-0fd9-42f5-98d1-3bfb25c8ef8b"
      },
      "source": [
        "# this is how you read the file into your program\r\n",
        "# note can also open as the append a+ mode\r\n",
        "with open(\"pythonclass.txt\",'a+') as f: #gave the name as 'f' it is a handle for the file, note next line has to start with a tab\r\n",
        "  print(f.write(\"we are rockstars\"))"
      ],
      "execution_count": 14,
      "outputs": [
        {
          "output_type": "stream",
          "text": [
            "16\n"
          ],
          "name": "stdout"
        }
      ]
    },
    {
      "cell_type": "code",
      "metadata": {
        "colab": {
          "base_uri": "https://localhost:8080/"
        },
        "id": "UGsxoCl7lRhC",
        "outputId": "ae4c55a5-9d2d-41f4-be4a-11f3f73151ea"
      },
      "source": [
        "# this is how you read the file into your program\r\n",
        "# note can also open as the append a+ mode\r\n",
        "with open(\"pythonclass.txt\",'r') as f: #gave the name as 'f' it is a handle (textOwrapper) for the file, note next line has to start with a tab\r\n",
        "  print(f.read())"
      ],
      "execution_count": 15,
      "outputs": [
        {
          "output_type": "stream",
          "text": [
            "hello wurld\n",
            "I love python\n",
            "everythin is temmiewe are rockstars\n"
          ],
          "name": "stdout"
        }
      ]
    },
    {
      "cell_type": "code",
      "metadata": {
        "colab": {
          "base_uri": "https://localhost:8080/"
        },
        "id": "0lQi089Olece",
        "outputId": "827bdb16-b3c6-43be-ab6f-8afc0ffd32b0"
      },
      "source": [
        "try:\r\n",
        "  with open(\"pythonclass.txt\",'a+') as f:\r\n",
        "    f.write(\"mycode never fails\")\r\n",
        "except Exception as ex:           # records the error as ex\r\n",
        "  print(\"something went wrong with our code, please check\")\r\n",
        "  print(ex)\r\n",
        "finally:                          #gets run all the time\r\n",
        "  print(\"will i run all de time\")\r\n",
        "  f.close()\r\n"
      ],
      "execution_count": 17,
      "outputs": [
        {
          "output_type": "stream",
          "text": [
            "will i run all de time\n"
          ],
          "name": "stdout"
        }
      ]
    },
    {
      "cell_type": "code",
      "metadata": {
        "colab": {
          "base_uri": "https://localhost:8080/"
        },
        "id": "TAIJ6JYmmuCo",
        "outputId": "d1c2748b-476c-4c10-db39-5ac5614399d2"
      },
      "source": [
        "with open(\"pythonclass.txt\",\"r\") as f:\r\n",
        "  print(f.read())\r\n",
        "  "
      ],
      "execution_count": 18,
      "outputs": [
        {
          "output_type": "stream",
          "text": [
            "hello wurld\n",
            "I love python\n",
            "everythin is temmiewe are rockstarsmycode never fails\n"
          ],
          "name": "stdout"
        }
      ]
    }
  ]
}